{
 "cells": [
  {
   "cell_type": "code",
   "execution_count": 88,
   "id": "ae946c66",
   "metadata": {},
   "outputs": [
    {
     "name": "stdout",
     "output_type": "stream",
     "text": [
      "b'[{\"id\":777,\"name\":\"test_1c601a8dc8.jpg\",\"alternativeText\":null,\"caption\":null,\"width\":800,\"height\":600,\"formats\":{\"small\":{\"ext\"'\n",
      "b':\".jpg\",\"url\":\"https://strapi-malayapps.s3.amazonaws.com/small_test_1c601a8dc8_135f38d32c.jpg\",\"hash\":\"small_test_1c601a8dc8_135'\n",
      "b'f38d32c\",\"mime\":\"image/jpg\",\"name\":\"small_test_1c601a8dc8.jpg\",\"path\":null,\"size\":50.31,\"width\":500,\"height\":375},\"medium\":{\"ext'\n",
      "b'\":\".jpg\",\"url\":\"https://strapi-malayapps.s3.amazonaws.com/medium_test_1c601a8dc8_135f38d32c.jpg\",\"hash\":\"medium_test_1c601a8dc8_'\n",
      "b'135f38d32c\",\"mime\":\"image/jpg\",\"name\":\"medium_test_1c601a8dc8.jpg\",\"path\":null,\"size\":103.94,\"width\":750,\"height\":563},\"thumbnai'\n",
      "b'l\":{\"ext\":\".jpg\",\"url\":\"https://strapi-malayapps.s3.amazonaws.com/thumbnail_test_1c601a8dc8_135f38d32c.jpg\",\"hash\":\"thumbnail_te'\n",
      "b'st_1c601a8dc8_135f38d32c\",\"mime\":\"image/jpg\",\"name\":\"thumbnail_test_1c601a8dc8.jpg\",\"path\":null,\"size\":10.34,\"width\":208,\"height'\n",
      "b'\":156}},\"hash\":\"test_1c601a8dc8_135f38d32c\",\"ext\":\".jpg\",\"mime\":\"image/jpg\",\"size\":116.05,\"url\":\"https://strapi-malayapps.s3.ama'\n",
      "b'zonaws.com/test_1c601a8dc8_135f38d32c.jpg\",\"previewUrl\":null,\"provider\":\"aws-s3\",\"provider_metadata\":null,\"created_at\":\"2021-11-'\n",
      "b'30T23:09:48.945Z\",\"updated_at\":\"2021-11-30T23:09:48.945Z\",\"related\":[]}]'\n"
     ]
    }
   ],
   "source": [
    "import requests\n",
    "from io import BytesIO\n",
    "import numpy as np\n",
    "import matplotlib.pyplot as plt\n",
    "from PIL import Image\n",
    "from fastapi.responses import StreamingResponse\n",
    "\n",
    "def upload(filename):\n",
    "    upload = 'https://vravabackahorasi-production.up.railway.app/upload'\n",
    "    files={'files' : (filename, open(filename,'rb'), 'image/jpg')}\n",
    "    r = requests.post(upload, files=files)\n",
    "    return r\n",
    "\n",
    "image_url = \"https://strapi-malayapps.s3.amazonaws.com/test_1c601a8dc8.jpg\"\n",
    "img_data = requests.get(image_url).content\n",
    "filename = (image_url[42:])\n",
    "handler = open(filename, 'wb')\n",
    "handler.write(img_data)\n",
    "\n",
    "r = upload(filename)\n",
    "for i in r:\n",
    "    print(i)\n"
   ]
  },
  {
   "cell_type": "code",
   "execution_count": 96,
   "id": "56683f75",
   "metadata": {},
   "outputs": [
    {
     "data": {
      "text/plain": [
       "'https://strapi-malayapps.s3.amazonaws.com/test_1c601a8dc8_135f38d32c.jpg'"
      ]
     },
     "execution_count": 96,
     "metadata": {},
     "output_type": "execute_result"
    }
   ],
   "source": [
    "r.json()[0]['url']"
   ]
  }
 ],
 "metadata": {
  "kernelspec": {
   "display_name": "Python 3",
   "language": "python",
   "name": "python3"
  },
  "language_info": {
   "codemirror_mode": {
    "name": "ipython",
    "version": 3
   },
   "file_extension": ".py",
   "mimetype": "text/x-python",
   "name": "python",
   "nbconvert_exporter": "python",
   "pygments_lexer": "ipython3",
   "version": "3.8.8"
  }
 },
 "nbformat": 4,
 "nbformat_minor": 5
}
